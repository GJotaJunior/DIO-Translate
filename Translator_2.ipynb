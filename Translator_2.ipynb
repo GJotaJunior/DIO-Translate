{
  "nbformat": 4,
  "nbformat_minor": 0,
  "metadata": {
    "colab": {
      "provenance": [],
      "gpuType": "T4",
      "authorship_tag": "ABX9TyNtWvSeJ049h3f9ysgkSA5u",
      "include_colab_link": true
    },
    "kernelspec": {
      "name": "python3",
      "display_name": "Python 3"
    },
    "language_info": {
      "name": "python"
    }
  },
  "cells": [
    {
      "cell_type": "markdown",
      "metadata": {
        "id": "view-in-github",
        "colab_type": "text"
      },
      "source": [
        "<a href=\"https://colab.research.google.com/github/GJotaJunior/DIO-Translate/blob/main/Translator_2.ipynb\" target=\"_parent\"><img src=\"https://colab.research.google.com/assets/colab-badge.svg\" alt=\"Open In Colab\"/></a>"
      ]
    },
    {
      "cell_type": "code",
      "execution_count": null,
      "metadata": {
        "colab": {
          "base_uri": "https://localhost:8080/"
        },
        "id": "b-_ltwOMe-BK",
        "outputId": "e7917216-9963-4deb-a503-af4b91d923ae"
      },
      "outputs": [
        {
          "output_type": "stream",
          "name": "stdout",
          "text": [
            "Requirement already satisfied: requests in /usr/local/lib/python3.10/dist-packages (2.32.3)\n",
            "Requirement already satisfied: beautifulsoup4 in /usr/local/lib/python3.10/dist-packages (4.12.3)\n",
            "Requirement already satisfied: openai in /usr/local/lib/python3.10/dist-packages (1.54.4)\n",
            "Requirement already satisfied: langchain-openai in /usr/local/lib/python3.10/dist-packages (0.2.10)\n",
            "Requirement already satisfied: charset-normalizer<4,>=2 in /usr/local/lib/python3.10/dist-packages (from requests) (3.4.0)\n",
            "Requirement already satisfied: idna<4,>=2.5 in /usr/local/lib/python3.10/dist-packages (from requests) (3.10)\n",
            "Requirement already satisfied: urllib3<3,>=1.21.1 in /usr/local/lib/python3.10/dist-packages (from requests) (2.2.3)\n",
            "Requirement already satisfied: certifi>=2017.4.17 in /usr/local/lib/python3.10/dist-packages (from requests) (2024.8.30)\n",
            "Requirement already satisfied: soupsieve>1.2 in /usr/local/lib/python3.10/dist-packages (from beautifulsoup4) (2.6)\n",
            "Requirement already satisfied: anyio<5,>=3.5.0 in /usr/local/lib/python3.10/dist-packages (from openai) (3.7.1)\n",
            "Requirement already satisfied: distro<2,>=1.7.0 in /usr/local/lib/python3.10/dist-packages (from openai) (1.9.0)\n",
            "Requirement already satisfied: httpx<1,>=0.23.0 in /usr/local/lib/python3.10/dist-packages (from openai) (0.27.2)\n",
            "Requirement already satisfied: jiter<1,>=0.4.0 in /usr/local/lib/python3.10/dist-packages (from openai) (0.7.1)\n",
            "Requirement already satisfied: pydantic<3,>=1.9.0 in /usr/local/lib/python3.10/dist-packages (from openai) (2.9.2)\n",
            "Requirement already satisfied: sniffio in /usr/local/lib/python3.10/dist-packages (from openai) (1.3.1)\n",
            "Requirement already satisfied: tqdm>4 in /usr/local/lib/python3.10/dist-packages (from openai) (4.66.6)\n",
            "Requirement already satisfied: typing-extensions<5,>=4.11 in /usr/local/lib/python3.10/dist-packages (from openai) (4.12.2)\n",
            "Requirement already satisfied: langchain-core<0.4.0,>=0.3.21 in /usr/local/lib/python3.10/dist-packages (from langchain-openai) (0.3.21)\n",
            "Requirement already satisfied: tiktoken<1,>=0.7 in /usr/local/lib/python3.10/dist-packages (from langchain-openai) (0.8.0)\n",
            "Requirement already satisfied: exceptiongroup in /usr/local/lib/python3.10/dist-packages (from anyio<5,>=3.5.0->openai) (1.2.2)\n",
            "Requirement already satisfied: httpcore==1.* in /usr/local/lib/python3.10/dist-packages (from httpx<1,>=0.23.0->openai) (1.0.7)\n",
            "Requirement already satisfied: h11<0.15,>=0.13 in /usr/local/lib/python3.10/dist-packages (from httpcore==1.*->httpx<1,>=0.23.0->openai) (0.14.0)\n",
            "Requirement already satisfied: PyYAML>=5.3 in /usr/local/lib/python3.10/dist-packages (from langchain-core<0.4.0,>=0.3.21->langchain-openai) (6.0.2)\n",
            "Requirement already satisfied: jsonpatch<2.0,>=1.33 in /usr/local/lib/python3.10/dist-packages (from langchain-core<0.4.0,>=0.3.21->langchain-openai) (1.33)\n",
            "Requirement already satisfied: langsmith<0.2.0,>=0.1.125 in /usr/local/lib/python3.10/dist-packages (from langchain-core<0.4.0,>=0.3.21->langchain-openai) (0.1.143)\n",
            "Requirement already satisfied: packaging<25,>=23.2 in /usr/local/lib/python3.10/dist-packages (from langchain-core<0.4.0,>=0.3.21->langchain-openai) (24.2)\n",
            "Requirement already satisfied: tenacity!=8.4.0,<10.0.0,>=8.1.0 in /usr/local/lib/python3.10/dist-packages (from langchain-core<0.4.0,>=0.3.21->langchain-openai) (9.0.0)\n",
            "Requirement already satisfied: annotated-types>=0.6.0 in /usr/local/lib/python3.10/dist-packages (from pydantic<3,>=1.9.0->openai) (0.7.0)\n",
            "Requirement already satisfied: pydantic-core==2.23.4 in /usr/local/lib/python3.10/dist-packages (from pydantic<3,>=1.9.0->openai) (2.23.4)\n",
            "Requirement already satisfied: regex>=2022.1.18 in /usr/local/lib/python3.10/dist-packages (from tiktoken<1,>=0.7->langchain-openai) (2024.9.11)\n",
            "Requirement already satisfied: jsonpointer>=1.9 in /usr/local/lib/python3.10/dist-packages (from jsonpatch<2.0,>=1.33->langchain-core<0.4.0,>=0.3.21->langchain-openai) (3.0.0)\n",
            "Requirement already satisfied: orjson<4.0.0,>=3.9.14 in /usr/local/lib/python3.10/dist-packages (from langsmith<0.2.0,>=0.1.125->langchain-core<0.4.0,>=0.3.21->langchain-openai) (3.10.11)\n",
            "Requirement already satisfied: requests-toolbelt<2.0.0,>=1.0.0 in /usr/local/lib/python3.10/dist-packages (from langsmith<0.2.0,>=0.1.125->langchain-core<0.4.0,>=0.3.21->langchain-openai) (1.0.0)\n"
          ]
        }
      ],
      "source": [
        "!pip install requests beautifulsoup4 openai langchain-openai"
      ]
    },
    {
      "cell_type": "code",
      "source": [
        "import requests\n",
        "from bs4 import BeautifulSoup\n",
        "\n",
        "def extract_text_from_url(url):\n",
        "    response = requests.get(url)\n",
        "\n",
        "    if response.status_code != 200:\n",
        "        print(f\"Failed to fetch URL: {url}. Status code : {response.status_code}\")\n",
        "        return None\n",
        "\n",
        "    soup = BeautifulSoup(response.text, 'html.parser')\n",
        "    for script_or_stype in soup([\"script\", \"style\"]):\n",
        "        script_or_stype.decompose()\n",
        "\n",
        "    text = soup.get_text(separator=' ')\n",
        "    lines = (line.strip() for line in text.splitlines())\n",
        "    chunks = (phrase.strip() for line in lines for phrase in line.split(\"  \"))\n",
        "    text = '\\n'.join(chunk for chunk in chunks if chunk)\n",
        "    return text\n",
        "\n",
        "extract_text_from_url('https://dev.to/kenakamu/azure-open-ai-in-vnet-3alo')"
      ],
      "metadata": {
        "colab": {
          "base_uri": "https://localhost:8080/",
          "height": 226
        },
        "collapsed": true,
        "id": "YIhp2U_ofdFq",
        "outputId": "a17c25e2-a1a6-4c74-ee84-50895c83650f"
      },
      "execution_count": null,
      "outputs": [
        {
          "output_type": "execute_result",
          "data": {
            "text/plain": [
              "\"Azure Open AI in VNet - DEV Community\\nSkip to content\\nNavigation menu\\nSearch\\nPowered by\\nSearch\\nAlgolia\\nSearch\\nLog in\\nCreate account\\nDEV Community\\nClose\\nAdd reaction\\nLike\\nUnicorn\\nExploding Head\\nRaised Hands\\nFire\\nJump to Comments\\nSave\\nBoost\\nMore...\\nCopy link\\nCopy link\\nCopied to Clipboard\\nShare to X\\nShare to LinkedIn\\nShare to Facebook\\nShare to Mastodon\\nReport Abuse\\nKenichiro Nakamura\\nPosted on\\nOct 12, 2023\\nAzure Open AI in VNet\\n# azure\\n# openai\\n# security\\nGPT models are hosted in multiple service vendor at the moment, and Microsoft Azure is one of them.\\nEven though the models themselves are the same, there are many differences including:\\ncost\\nfunctionalities\\ntype of models and versions\\ngeo location\\nsecurity\\nsupport\\netc.\\nOne of the most important aspects when we use it in an Enterprise Environment is, of course, security.\\nBy using Azure network security features with Azure Open AI, customers can consume the Open AI service from and within the VNet, therefore no information is flowing in public.\\nSample Deployment\\nAzure Sample repo provides a sample bicep files to deploy Azure Open AI into VNet environment.\\nGitHub: openai-enterprise-iac\\nThe key features the bicep uses are:\\nVNet\\nVNet integration for Web App\\nPrivate Endpoint for Azure Open AI\\nPrivate Endpoint for Cognitive Search\\nPrivate DNS Zone\\nBy using these features, all the outbound traffic from the Web App only routed inside the VNet and all the names are resolved into private IP addresses. Open AI and Cognitive Search shut down the public IP address, thus there is not public interface endpoint available anymore.\\nDeploy\\nThe bicep file will deploy following Azure Resources.\\nLet's deploy and confirm how it works. I create a resource group in East US region for my own test.\\ngit clone https://github.com/Azure-Samples/openai-enterprise-iac\\ncd\\nopenai-enterprise-iac\\naz group create\\n-n\\nopenaitest\\n-l\\neastus\\naz deployment group create\\n-g\\nopenaitest\\n-f\\n. \\\\i nfra \\\\m ain.bicep\\nEnter fullscreen mode\\nExit fullscreen mode\\nOnce I run the commend above, I see the deployment started.\\nWait until the deployment completes.\\nTest\\nLet's see if the deployment was succeeded.\\nAzure Open AI\\nLet's try public access first.\\nI could create a deployment without any issue. But when I try from the Chat playground in my Azure Portal, I see the following error.\\nHow about access via the Web API?\\nFrom an advanced tool of the App Service, I login to Bash session, and first I ping the service URL.\\nI see the private IP address assigned to the Private Endpoint is returend.\\nThen I use curl command to send request to the endpoint.\\nTop comments\\n(0)\\nSubscribe\\nPersonal\\nTrusted User\\nCreate template\\nTemplates let you quickly answer FAQs or store snippets for re-use.\\nSubmit\\nPreview\\nDismiss\\nCode of Conduct\\n•\\nReport abuse\\nAre you sure you want to hide this comment? It will become hidden in your post, but will still be visible via the comment's\\npermalink .\\nHide child comments as well\\nConfirm\\nFor further actions, you may consider blocking this person and/or\\nreporting abuse\\nRead next\\nTwo ways to use Pester to Mock objects with strongly typed parameters\\nMark Wragg -\\nOct 24\\nLinux on Termux\\njeff dennis -\\nOct 21\\nDiscovering the Latest Features of AWS CloudFront: Enhancing Performance and\\xa0Security\\nFady Nabil -\\nNov 23\\nInvalidContentLink error in ARM deployments\\nFrans -\\nOct 20\\nKenichiro Nakamura\\nFollow\\nJoined\\nFeb 3, 2018\\nMore from\\nKenichiro Nakamura\\nAzure ML Prompt flow: Use content safety before sending a request to LLM\\n# azure\\n# promptflow\\n# contentsafety\\nDon't waste time to write README, use readme-ai instead\\n# ai\\n# readme\\n# openai\\nC#: Azure Open AI and Function Calling\\n# azure\\n# openai\\n# functioncalling\\nThank you to our Diamond Sponsor\\nNeon\\nfor supporting our community.\\nDEV Community\\n— A constructive and inclusive social network for software developers. With you every step of your journey.\\nHome\\nDEV++\\nPodcasts\\nVideos\\nTags\\nDEV Help\\nForem Shop\\nAdvertise on DEV\\nDEV Challenges\\nDEV Showcase\\nAbout\\nContact\\nFree Postgres Database\\nGuides\\nSoftware comparisons\\nCode of Conduct\\nPrivacy Policy\\nTerms of use\\nBuilt on\\nForem\\n— the\\nopen source\\nsoftware that powers\\nDEV\\nand other inclusive communities.\\nMade with love and\\nRuby on Rails . DEV Community\\n©\\n2016 - 2024.\\nWe're a place where coders share, stay up-to-date and grow their careers.\\nLog in\\nCreate account\""
            ],
            "application/vnd.google.colaboratory.intrinsic+json": {
              "type": "string"
            }
          },
          "metadata": {},
          "execution_count": 9
        }
      ]
    },
    {
      "cell_type": "code",
      "source": [
        "from langchain_openai.chat_models.azure import AzureChatOpenAI\n",
        "\n",
        "client = AzureChatOpenAI(\n",
        "    azure_endpoint='https://openai-dio-grojr.openai.azure.com/',\n",
        "    api_key='',\n",
        "    api_version='2024-02-15-preview',\n",
        "    deployment_name='gpt-4o-mini',\n",
        "    max_retries=0\n",
        ")\n",
        "\n",
        "def translate_article(text, lang):\n",
        "  message = [\n",
        "      (\"system\", \"Você é um trador de textos\"),\n",
        "      (\"user\", f\"traduzir o texto: {text} para o idioma {lang} e responda em markdown\")\n",
        "  ]\n",
        "\n",
        "  response = client.invoke(message)\n",
        "  return response.content\n",
        "\n",
        "translate_article(\"Let's see if the deployment was succeeded.\", \"portugues\")"
      ],
      "metadata": {
        "colab": {
          "base_uri": "https://localhost:8080/",
          "height": 35
        },
        "id": "Fjj47T4Gg6PR",
        "outputId": "4bd47e61-713c-4cc3-d6a9-143aa6dd0d1c"
      },
      "execution_count": null,
      "outputs": [
        {
          "output_type": "execute_result",
          "data": {
            "text/plain": [
              "'Vamos ver se a implantação foi bem-sucedida.'"
            ],
            "application/vnd.google.colaboratory.intrinsic+json": {
              "type": "string"
            }
          },
          "metadata": {},
          "execution_count": 11
        }
      ]
    },
    {
      "cell_type": "code",
      "source": [
        "article_url = 'https://dev.to/kenakamu/azure-open-ai-in-vnet-3alo'\n",
        "text = extract_text_from_url(article_url)\n",
        "text_translated = translate_article(text, \"pt-br\")\n",
        "\n",
        "print(text_translated)"
      ],
      "metadata": {
        "colab": {
          "base_uri": "https://localhost:8080/"
        },
        "id": "44QRNWTIkWHe",
        "outputId": "330ef150-cd98-4963-a8c5-85e04e174d40"
      },
      "execution_count": null,
      "outputs": [
        {
          "output_type": "stream",
          "name": "stdout",
          "text": [
            "# Azure Open AI na VNet - DEV Community\n",
            "\n",
            "**Kenichiro Nakamura**  \n",
            "Publicado em 12 de outubro de 2023\n",
            "\n",
            "**Azure Open AI na VNet**  \n",
            "# azure  \n",
            "# openai  \n",
            "# segurança  \n",
            "\n",
            "Os modelos GPT estão hospedados em vários fornecedores de serviços no momento, e o Microsoft Azure é um deles.  \n",
            "Embora os modelos em si sejam os mesmos, existem muitas diferenças, incluindo:  \n",
            "- custo  \n",
            "- funcionalidades  \n",
            "- tipo de modelos e versões  \n",
            "- localização geográfica  \n",
            "- segurança  \n",
            "- suporte  \n",
            "- etc.  \n",
            "\n",
            "Um dos aspectos mais importantes ao usá-lo em um ambiente corporativo é, claro, a segurança.  \n",
            "Ao usar os recursos de segurança de rede do Azure com o Azure Open AI, os clientes podem consumir o serviço Open AI de e dentro da VNet, portanto, nenhuma informação está fluindo para o público.\n",
            "\n",
            "## Exemplo de Implantação  \n",
            "O repositório de amostras do Azure fornece um arquivo bicep de exemplo para implantar o Azure Open AI em um ambiente VNet.  \n",
            "[GitHub: openai-enterprise-iac](https://github.com/Azure-Samples/openai-enterprise-iac)\n",
            "\n",
            "As principais características que o bicep utiliza são:  \n",
            "- VNet  \n",
            "- Integração da VNet para Web App  \n",
            "- Endpoint Privado para Azure Open AI  \n",
            "- Endpoint Privado para Pesquisa Cognitiva  \n",
            "- Zona DNS Privada  \n",
            "\n",
            "Ao usar esses recursos, todo o tráfego de saída do Web App é roteado apenas dentro da VNet, e todos os nomes são resolvidos em endereços IP privados. O Open AI e a Pesquisa Cognitiva desativam o endereço IP público, portanto, não há mais um endpoint de interface pública disponível.\n",
            "\n",
            "### Implantar  \n",
            "O arquivo bicep implantará os seguintes recursos do Azure.  \n",
            "Vamos implantar e confirmar como funciona. Eu criei um grupo de recursos na região East US para meu próprio teste.\n",
            "\n",
            "```bash\n",
            "git clone https://github.com/Azure-Samples/openai-enterprise-iac\n",
            "cd openai-enterprise-iac\n",
            "az group create -n openaitest -l eastus\n",
            "az deployment group create -g openaitest -f .\\infra\\main.bicep\n",
            "```\n",
            "\n",
            "Uma vez que eu execute o comando acima, vejo que a implantação começou.  \n",
            "Aguarde até que a implantação seja concluída.\n",
            "\n",
            "### Teste  \n",
            "Vamos ver se a implantação foi bem-sucedida.  \n",
            "**Azure Open AI**  \n",
            "Vamos tentar o acesso público primeiro.  \n",
            "Eu consegui criar uma implantação sem nenhum problema. Mas quando tento pelo Chat playground no meu Portal do Azure, vejo o seguinte erro.  \n",
            "E quanto ao acesso via API Web?  \n",
            "De uma ferramenta avançada do App Service, eu faço login na sessão Bash e primeiro faço um ping na URL do serviço.  \n",
            "Vejo que o endereço IP privado atribuído ao Endpoint Privado é retornado.  \n",
            "Então, eu uso o comando curl para enviar uma solicitação ao endpoint.\n",
            "\n",
            "---\n",
            "\n",
            "**Comentários principais**  \n",
            "(0)  \n",
            "Assinar  \n",
            "Pessoal  \n",
            "Usuário de Confiança  \n",
            "Criar modelo  \n",
            "Modelos permitem que você responda rapidamente a perguntas frequentes ou armazene trechos para reutilização.  \n",
            "Enviar  \n",
            "Visualizar  \n",
            "Descartar  \n",
            "\n",
            "**Código de Conduta**  \n",
            "•  \n",
            "Relatar abuso  \n",
            "Você tem certeza de que deseja ocultar este comentário? Ele ficará oculto em sua postagem, mas ainda será visível através do permalink do comentário.  \n",
            "Ocultar comentários filhos também  \n",
            "Confirmar  \n",
            "Para mais ações, você pode considerar bloquear esta pessoa e/ou relatar abuso.\n",
            "\n",
            "**Leia a seguir**  \n",
            "- Duas maneiras de usar Pester para simular objetos com parâmetros fortemente tipados  \n",
            "- Linux no Termux  \n",
            "- Descobrindo os Últimos Recursos do AWS CloudFront: Melhorando Desempenho e Segurança  \n",
            "- Erro InvalidContentLink em implantações ARM  \n",
            "\n",
            "**Kenichiro Nakamura**  \n",
            "Seguir  \n",
            "Juntou-se em 3 de fevereiro de 2018  \n",
            "\n",
            "Mais de Kenichiro Nakamura:  \n",
            "- Azure ML Prompt flow: Use segurança de conteúdo antes de enviar uma solicitação para LLM  \n",
            "- Não perca tempo escrevendo README, use readme-ai em vez disso  \n",
            "- C#: Azure Open AI e Chamada de Função  \n",
            "\n",
            "Obrigado ao nosso patrocinador Diamante, Neon, por apoiar nossa comunidade.  \n",
            "\n",
            "**DEV Community**  \n",
            "— Uma rede social construtiva e inclusiva para desenvolvedores de software. Com você a cada passo de sua jornada.  \n",
            "\n",
            "**Início**  \n",
            "DEV++  \n",
            "Podcasts  \n",
            "Vídeos  \n",
            "Tags  \n",
            "Ajuda DEV  \n",
            "Loja Forem  \n",
            "Anuncie no DEV  \n",
            "Desafios DEV  \n",
            "Demonstração DEV  \n",
            "Sobre  \n",
            "Contato  \n",
            "Banco de Dados Postgres Gratuito  \n",
            "Guias  \n",
            "Comparações de Software  \n",
            "Código de Conduta  \n",
            "Política de Privacidade  \n",
            "Termos de uso  \n",
            "\n",
            "Construído em **Forem** — o software de código aberto que alimenta o DEV e outras comunidades inclusivas.  \n",
            "Feito com amor e **Ruby on Rails**.  \n",
            "\n",
            "**DEV Community** © 2016 - 2024.  \n",
            "Estamos em um lugar onde programadores compartilham, se mantêm atualizados e crescem em suas carreiras.  \n",
            "\n",
            "**Login**  \n",
            "**Criar conta**  \n"
          ]
        }
      ]
    }
  ]
}